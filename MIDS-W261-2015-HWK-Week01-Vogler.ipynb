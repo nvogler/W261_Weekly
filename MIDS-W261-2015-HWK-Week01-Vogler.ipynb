{
 "cells": [
  {
   "cell_type": "markdown",
   "metadata": {},
   "source": [
    "#DATASCI W261: Machine Learning at Scale "
   ]
  },
  {
   "cell_type": "markdown",
   "metadata": {},
   "source": [
    "#This notebook provides a poor man Hadoop through command-line and python. Please insert the python code by yourself."
   ]
  },
  {
   "cell_type": "markdown",
   "metadata": {},
   "source": [
    "#Map"
   ]
  },
  {
   "cell_type": "code",
   "execution_count": 25,
   "metadata": {},
   "outputs": [
    {
     "name": "stdout",
     "output_type": "stream",
     "text": [
      "Overwriting mapper.py\n"
     ]
    }
   ],
   "source": [
    "%%writefile mapper.py\n",
    "#!/usr/bin/python\n",
    "import sys\n",
    "import re, os\n",
    "count = 0\n",
    "WORD_RE = re.compile(r\"[\\w']+\")\n",
    "filename = sys.argv[2]\n",
    "findword = sys.argv[1]\n",
    "with open (filename, \"r\") as myfile:\n",
    "    for line in myfile:\n",
    "        for findword in line:\n",
    "            count = count + 1\n",
    "print (str(count))"
   ]
  },
  {
   "cell_type": "code",
   "execution_count": 26,
   "metadata": {},
   "outputs": [],
   "source": [
    "!chmod a+x mapper.py"
   ]
  },
  {
   "cell_type": "markdown",
   "metadata": {},
   "source": [
    "#Reduce"
   ]
  },
  {
   "cell_type": "code",
   "execution_count": 27,
   "metadata": {},
   "outputs": [
    {
     "name": "stdout",
     "output_type": "stream",
     "text": [
      "Overwriting reducer.py\n"
     ]
    }
   ],
   "source": [
    "%%writefile reducer.py\n",
    "#!/usr/bin/python\n",
    "import sys\n",
    "sum = 0\n",
    "for line in sys.stdin:\n",
    "    sum = sum + int(line.strip())\n",
    "print (str(sum))"
   ]
  },
  {
   "cell_type": "code",
   "execution_count": 28,
   "metadata": {},
   "outputs": [],
   "source": [
    "!chmod a+x reducer.py"
   ]
  },
  {
   "cell_type": "markdown",
   "metadata": {},
   "source": [
    "# Write script to file"
   ]
  },
  {
   "cell_type": "code",
   "execution_count": 22,
   "metadata": {},
   "outputs": [
    {
     "name": "stdout",
     "output_type": "stream",
     "text": [
      "Overwriting pGrepCount.sh\n"
     ]
    }
   ],
   "source": [
    "%%writefile pGrepCount.sh\n",
    "ORIGINAL_FILE=$1\n",
    "FIND_WORD=$2\n",
    "BLOCK_SIZE=$3\n",
    "CHUNK_FILE_PREFIX=$ORIGINAL_FILE.split\n",
    "SORTED_CHUNK_FILES=$CHUNK_FILE_PREFIX*.sorted\n",
    "usage()\n",
    "{\n",
    "    echo Parallel grep\n",
    "    echo usage: pGrepCount filename word chuncksize\n",
    "    echo greps file file1 in $ORIGINAL_FILE and counts the number of lines\n",
    "    echo Note: file1 will be split in chunks up to $ BLOCK_SIZE chunks each\n",
    "    echo $FIND_WORD each chunk will be grepCounted in parallel\n",
    "}\n",
    "#Splitting $ORIGINAL_FILE INTO CHUNKS\n",
    "split -b $BLOCK_SIZE $ORIGINAL_FILE $CHUNK_FILE_PREFIX\n",
    "#DISTRIBUTE\n",
    "for file in $CHUNK_FILE_PREFIX*\n",
    "do\n",
    "    #grep -i $FIND_WORD $file|wc -l >$file.intermediateCount &\n",
    "    ./mapper.py $FIND_WORD $file >$file.intermediateCount &\n",
    "done\n",
    "wait\n",
    "#MERGEING INTERMEDIATE COUNT CAN TAKE THE FIRST COLUMN AND TOTOL...\n",
    "#numOfInstances=$(cat *.intermediateCount | cut -f 1 | paste -sd+ - |bc)\n",
    "numOfInstances=$(cat *.intermediateCount | ./reducer.py)\n",
    "echo \"found [$numOfInstances] [$FIND_WORD] in the file [$ORIGINAL_FILE]\""
   ]
  },
  {
   "cell_type": "markdown",
   "metadata": {},
   "source": [
    "#Run the file"
   ]
  },
  {
   "cell_type": "code",
   "execution_count": 23,
   "metadata": {},
   "outputs": [],
   "source": [
    "!chmod a+x pGrepCount.sh"
   ]
  },
  {
   "cell_type": "markdown",
   "metadata": {},
   "source": [
    "Usage: usage: pGrepCount filename word chuncksize"
   ]
  },
  {
   "cell_type": "code",
   "execution_count": 24,
   "metadata": {},
   "outputs": [
    {
     "name": "stdout",
     "output_type": "stream",
     "text": [
      "found [<_io.TextIOWrapper name='License.txt.splitaa' mode='r' encoding='UTF-8'>\r\n",
      "\r\n",
      "0\r\n",
      "\r\n",
      "<_io.TextIOWrapper name='License.txt.splitaa.intermediateCount' mode='r' encoding='UTF-8'>\r\n",
      "\r\n",
      "0\r\n",
      "\r\n",
      "<_io.TextIOWrapper name='License.txt.splitaa.intermediateCount.intermediateCount' mode='r' encoding='UTF-8'>\r\n",
      "\r\n",
      "0\r\n",
      "\r\n",
      "<_io.TextIOWrapper name='License.txt.splitab' mode='r' encoding='UTF-8'>\r\n",
      "\r\n",
      "0\r\n",
      "\r\n",
      "<_io.TextIOWrapper name='License.txt.splitab.intermediateCount' mode='r' encoding='UTF-8'>\r\n",
      "\r\n",
      "0\r\n",
      "\r\n",
      "<_io.TextIOWrapper name='License.txt.splitab.intermediateCount.intermediateCount' mode='r' encoding='UTF-8'>\r\n",
      "\r\n",
      "0\r\n",
      "\r\n",
      "<_io.TextIOWrapper name='License.txt.splitac' mode='r' encoding='UTF-8'>\r\n",
      "\r\n",
      "0\r\n",
      "\r\n",
      "<_io.TextIOWrapper name='License.txt.splitac.intermediateCount' mode='r' encoding='UTF-8'>\r\n",
      "\r\n",
      "0\r\n",
      "\r\n",
      "<_io.TextIOWrapper name='License.txt.splitac.intermediateCount.intermediateCount' mode='r' encoding='UTF-8'>\r\n",
      "\r\n",
      "0\r\n",
      "\r\n",
      "<_io.TextIOWrapper name='License.txt.splitad' mode='r' encoding='UTF-8'>\r\n",
      "\r\n",
      "0\r\n",
      "\r\n",
      "<_io.TextIOWrapper name='License.txt.splitad.intermediateCount' mode='r' encoding='UTF-8'>\r\n",
      "\r\n",
      "0\r\n",
      "\r\n",
      "<_io.TextIOWrapper name='License.txt.splitad.intermediateCount.intermediateCount' mode='r' encoding='UTF-8'>\r\n",
      "\r\n",
      "0\r\n",
      "\r\n",
      "<_io.TextIOWrapper name='License.txt.splitae' mode='r' encoding='UTF-8'>\r\n",
      "\r\n",
      "0\r\n",
      "\r\n",
      "<_io.TextIOWrapper name='License.txt.splitae.intermediateCount' mode='r' encoding='UTF-8'>\r\n",
      "\r\n",
      "0\r\n",
      "\r\n",
      "<_io.TextIOWrapper name='License.txt.splitae.intermediateCount.intermediateCount' mode='r' encoding='UTF-8'>\r\n",
      "\r\n",
      "0\r\n",
      "\r\n",
      "<_io.TextIOWrapper name='License.txt.splitaf' mode='r' encoding='UTF-8'>\r\n",
      "\r\n",
      "0\r\n",
      "\r\n",
      "<_io.TextIOWrapper name='License.txt.splitaf.intermediateCount' mode='r' encoding='UTF-8'>\r\n",
      "\r\n",
      "0\r\n",
      "\r\n",
      "<_io.TextIOWrapper name='License.txt.splitaf.intermediateCount.intermediateCount' mode='r' encoding='UTF-8'>\r\n",
      "\r\n",
      "0\r\n",
      "\r\n",
      "<_io.TextIOWrapper name='License.txt.splitag' mode='r' encoding='UTF-8'>\r\n",
      "\r\n",
      "0\r\n",
      "\r\n",
      "<_io.TextIOWrapper name='License.txt.splitag.intermediateCount' mode='r' encoding='UTF-8'>\r\n",
      "\r\n",
      "0\r\n",
      "\r\n",
      "<_io.TextIOWrapper name='License.txt.splitag.intermediateCount.intermediateCount' mode='r' encoding='UTF-8'>\r\n",
      "\r\n",
      "0\r\n",
      "\r\n",
      "<_io.TextIOWrapper name='License.txt.splitah' mode='r' encoding='UTF-8'>\r\n",
      "\r\n",
      "0\r\n",
      "\r\n",
      "<_io.TextIOWrapper name='License.txt.splitah.intermediateCount' mode='r' encoding='UTF-8'>\r\n",
      "\r\n",
      "0\r\n",
      "\r\n",
      "<_io.TextIOWrapper name='License.txt.splitah.intermediateCount.intermediateCount' mode='r' encoding='UTF-8'>\r\n",
      "\r\n",
      "0\r\n",
      "\r\n",
      "<_io.TextIOWrapper name='License.txt.splitai' mode='r' encoding='UTF-8'>\r\n",
      "\r\n",
      "0\r\n",
      "\r\n",
      "<_io.TextIOWrapper name='License.txt.splitai.intermediateCount' mode='r' encoding='UTF-8'>\r\n",
      "\r\n",
      "0\r\n",
      "\r\n",
      "<_io.TextIOWrapper name='License.txt.splitai.intermediateCount.intermediateCount' mode='r' encoding='UTF-8'>\r\n",
      "\r\n",
      "0\r\n",
      "\r\n",
      "<_io.TextIOWrapper name='License.txt.splitaj' mode='r' encoding='UTF-8'>\r\n",
      "\r\n",
      "0\r\n",
      "\r\n",
      "<_io.TextIOWrapper name='License.txt.splitaj.intermediateCount' mode='r' encoding='UTF-8'>\r\n",
      "\r\n",
      "0\r\n",
      "\r\n",
      "<_io.TextIOWrapper name='License.txt.splitaj.intermediateCount.intermediateCount' mode='r' encoding='UTF-8'>\r\n",
      "\r\n",
      "0\r\n",
      "\r\n",
      "<_io.TextIOWrapper name='License.txt.splitak' mode='r' encoding='UTF-8'>\r\n",
      "\r\n",
      "0\r\n",
      "\r\n",
      "<_io.TextIOWrapper name='License.txt.splitak.intermediateCount' mode='r' encoding='UTF-8'>\r\n",
      "\r\n",
      "0\r\n",
      "\r\n",
      "<_io.TextIOWrapper name='License.txt.splitak.intermediateCount.intermediateCount' mode='r' encoding='UTF-8'>\r\n",
      "\r\n",
      "0\r\n",
      "\r\n",
      "<_io.TextIOWrapper name='License.txt.splital' mode='r' encoding='UTF-8'>\r\n",
      "\r\n",
      "0\r\n",
      "\r\n",
      "<_io.TextIOWrapper name='License.txt.splital.intermediateCount' mode='r' encoding='UTF-8'>\r\n",
      "\r\n",
      "0\r\n",
      "\r\n",
      "<_io.TextIOWrapper name='License.txt.splital.intermediateCount.intermediateCount' mode='r' encoding='UTF-8'>\r\n",
      "\r\n",
      "0\r\n",
      "\r\n",
      "0] [COPYRIGHT] in the file [License.txt]\r\n"
     ]
    }
   ],
   "source": [
    "!./pGrepCount.sh License.txt COPYRIGHT 4k"
   ]
  },
  {
   "cell_type": "code",
   "execution_count": null,
   "metadata": {},
   "outputs": [],
   "source": []
  }
 ],
 "metadata": {
  "kernelspec": {
   "display_name": "Python 3",
   "language": "python",
   "name": "python3"
  },
  "language_info": {
   "codemirror_mode": {
    "name": "ipython",
    "version": 3
   },
   "file_extension": ".py",
   "mimetype": "text/x-python",
   "name": "python",
   "nbconvert_exporter": "python",
   "pygments_lexer": "ipython3",
   "version": "3.6.2"
  }
 },
 "nbformat": 4,
 "nbformat_minor": 1
}
